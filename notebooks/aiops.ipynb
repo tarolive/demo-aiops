{
 "cells": [
  {
   "cell_type": "code",
   "execution_count": null,
   "id": "7c180e03-7b3f-4371-ac70-195ccdcca140",
   "metadata": {},
   "outputs": [],
   "source": [
    "!pip install --upgrade prometheus-api-client urllib3"
   ]
  },
  {
   "cell_type": "code",
   "execution_count": null,
   "id": "e6829585-1d8c-4ece-a822-8e0464bc56da",
   "metadata": {},
   "outputs": [],
   "source": [
    "from datetime                    import timedelta\n",
    "from prometheus_api_client       import MetricSnapshotDataFrame, PrometheusConnect\n",
    "from prometheus_api_client.utils import parse_datetime\n",
    "from urllib3                     import disable_warnings\n",
    "\n",
    "disable_warnings()"
   ]
  },
  {
   "cell_type": "code",
   "execution_count": null,
   "id": "de0e1589-e0a6-4ac3-bc57-a85159f6869b",
   "metadata": {},
   "outputs": [],
   "source": [
    "PROMETHEUS_URL   = '<PROMETHEUS_URL>'\n",
    "PROMETHEUS_TOKEN = '<PROMETHEUS_TOKEN>'"
   ]
  },
  {
   "cell_type": "code",
   "execution_count": null,
   "id": "f715550e-7a69-4bdc-bfbe-ebade510257a",
   "metadata": {},
   "outputs": [],
   "source": [
    "prometheus_connect = PrometheusConnect(\n",
    "    url         = PROMETHEUS_URL,\n",
    "    headers     = { 'Authorization' : f'bearer { PROMETHEUS_TOKEN }' },\n",
    "    disable_ssl = True\n",
    ")"
   ]
  },
  {
   "cell_type": "code",
   "execution_count": null,
   "id": "81ede6ac-10c6-4bcd-9de6-be866dfbb176",
   "metadata": {},
   "outputs": [],
   "source": [
    "prometheus_connect.all_metrics()[:10]"
   ]
  },
  {
   "cell_type": "code",
   "execution_count": null,
   "id": "709764e5-c7d5-458f-9388-5cf8052196d6",
   "metadata": {},
   "outputs": [],
   "source": [
    "metric_name = 'pod:container_cpu_usage:sum'\n",
    "start_time  = parse_datetime('1h')\n",
    "end_time    = parse_datetime('now')\n",
    "chunk_size  = timedelta(minutes = 1)\n",
    "\n",
    "label_config = {\n",
    "    'prometheus' : 'openshift-monitoring/k8s',\n",
    "    'namespace'  : '<namespace>'\n",
    "}\n",
    "\n",
    "metric_data = prometheus_connect.get_metric_range_data(\n",
    "    metric_name  = metric_name,\n",
    "    label_config = label_config,\n",
    "    start_time   = start_time,\n",
    "    end_time     = end_time,\n",
    "    chunk_size   = chunk_size\n",
    ")\n",
    "\n",
    "metric_data = MetricSnapshotDataFrame(metric_data)\n",
    "metric_data"
   ]
  },
  {
   "cell_type": "code",
   "execution_count": null,
   "id": "819e5b64-883f-406b-92c0-1204fa5c7df9",
   "metadata": {},
   "outputs": [],
   "source": [
    "len(metric_data)"
   ]
  }
 ],
 "metadata": {
  "kernelspec": {
   "display_name": "Python 3.11",
   "language": "python",
   "name": "python3"
  },
  "language_info": {
   "codemirror_mode": {
    "name": "ipython",
    "version": 3
   },
   "file_extension": ".py",
   "mimetype": "text/x-python",
   "name": "python",
   "nbconvert_exporter": "python",
   "pygments_lexer": "ipython3",
   "version": "3.11.7"
  }
 },
 "nbformat": 4,
 "nbformat_minor": 5
}
