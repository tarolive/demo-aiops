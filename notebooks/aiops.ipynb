{
 "cells": [
  {
   "cell_type": "code",
   "execution_count": null,
   "id": "7c180e03-7b3f-4371-ac70-195ccdcca140",
   "metadata": {},
   "outputs": [],
   "source": [
    "!pip install --upgrade matplotlib numpy prometheus-api-client scikit-learn torch urllib3"
   ]
  },
  {
   "cell_type": "code",
   "execution_count": null,
   "id": "e6829585-1d8c-4ece-a822-8e0464bc56da",
   "metadata": {},
   "outputs": [],
   "source": [
    "from copy                        import deepcopy\n",
    "from datetime                    import timedelta\n",
    "from matplotlib.pyplot           import legend, plot, show, xlabel, ylabel\n",
    "from numpy                       import flip, zeros\n",
    "from prometheus_api_client       import MetricSnapshotDataFrame, PrometheusConnect\n",
    "from prometheus_api_client.utils import parse_datetime\n",
    "from urllib3                     import disable_warnings\n",
    "from torch                       import no_grad, save, tensor, zeros as torch_zeros\n",
    "from torch.nn                    import Linear, LSTM, Module, MSELoss\n",
    "from torch.optim                 import Adam\n",
    "from torch.utils.data            import DataLoader, Dataset\n",
    "from sklearn.preprocessing       import MinMaxScaler\n",
    "\n",
    "disable_warnings()"
   ]
  },
  {
   "cell_type": "code",
   "execution_count": null,
   "id": "de0e1589-e0a6-4ac3-bc57-a85159f6869b",
   "metadata": {},
   "outputs": [],
   "source": [
    "PROMETHEUS_URL   = '<PROMETHEUS_URL>'\n",
    "PROMETHEUS_TOKEN = '<PROMETHEUS_TOKEN>'"
   ]
  },
  {
   "cell_type": "code",
   "execution_count": null,
   "id": "f715550e-7a69-4bdc-bfbe-ebade510257a",
   "metadata": {},
   "outputs": [],
   "source": [
    "prometheus_connect = PrometheusConnect(\n",
    "    url         = PROMETHEUS_URL,\n",
    "    headers     = { 'Authorization' : f'bearer { PROMETHEUS_TOKEN }' },\n",
    "    disable_ssl = True\n",
    ")"
   ]
  },
  {
   "cell_type": "code",
   "execution_count": null,
   "id": "81ede6ac-10c6-4bcd-9de6-be866dfbb176",
   "metadata": {},
   "outputs": [],
   "source": [
    "prometheus_connect.all_metrics()[:10]"
   ]
  },
  {
   "cell_type": "code",
   "execution_count": null,
   "id": "709764e5-c7d5-458f-9388-5cf8052196d6",
   "metadata": {},
   "outputs": [],
   "source": [
    "metric_name = 'pod:container_cpu_usage:sum'\n",
    "start_time  = parse_datetime('30m')\n",
    "end_time    = parse_datetime('now')\n",
    "chunk_size  = timedelta(seconds = 30)\n",
    "\n",
    "label_config = {\n",
    "    'prometheus' : 'openshift-monitoring/k8s',\n",
    "    'namespace'  : '<namespace>'\n",
    "}\n",
    "\n",
    "metric_data = prometheus_connect.get_metric_range_data(\n",
    "    metric_name  = metric_name,\n",
    "    label_config = label_config,\n",
    "    start_time   = start_time,\n",
    "    end_time     = end_time,\n",
    "    chunk_size   = chunk_size\n",
    ")\n",
    "\n",
    "metric_data = MetricSnapshotDataFrame(metric_data)\n",
    "metric_data"
   ]
  },
  {
   "cell_type": "code",
   "execution_count": null,
   "id": "819e5b64-883f-406b-92c0-1204fa5c7df9",
   "metadata": {},
   "outputs": [],
   "source": [
    "len(metric_data)"
   ]
  },
  {
   "cell_type": "code",
   "execution_count": null,
   "id": "43b84bc0-a15f-47f7-808e-3683dff58804",
   "metadata": {},
   "outputs": [],
   "source": [
    "def transform_and_normalize(metric_data, lookback):\n",
    "\n",
    "    metric_data = deepcopy(metric_data)\n",
    "    metric_data = metric_data[['timestamp', 'value']]\n",
    "\n",
    "    for index in range(1, lookback + 1):\n",
    "\n",
    "        metric_data[f't - {index}'] = metric_data['value'].shift(index)\n",
    "\n",
    "    metric_data.set_index('timestamp', inplace = True)\n",
    "    metric_data.dropna(inplace = True)\n",
    "\n",
    "    return metric_data"
   ]
  },
  {
   "cell_type": "code",
   "execution_count": null,
   "id": "424ab66c-f9af-4b13-b6ea-acfb4e9328b2",
   "metadata": {},
   "outputs": [],
   "source": [
    "lookback = 4\n",
    "\n",
    "metric_data = transform_and_normalize(metric_data, lookback)\n",
    "metric_data"
   ]
  },
  {
   "cell_type": "code",
   "execution_count": null,
   "id": "6e8eeceb-0c6d-4ff6-a5b9-79ca24df1a13",
   "metadata": {},
   "outputs": [],
   "source": [
    "metric_data = metric_data.to_numpy()\n",
    "metric_data"
   ]
  },
  {
   "cell_type": "code",
   "execution_count": null,
   "id": "2f5a1180-88d9-4306-97af-05afe370d610",
   "metadata": {},
   "outputs": [],
   "source": [
    "scaler = MinMaxScaler(feature_range = (-1, 1))\n",
    "\n",
    "metric_data = scaler.fit_transform(metric_data)\n",
    "metric_data"
   ]
  },
  {
   "cell_type": "code",
   "execution_count": null,
   "id": "cd729245-c920-46b9-8084-2887a2e4450d",
   "metadata": {},
   "outputs": [],
   "source": [
    "X = metric_data[:, 1:]\n",
    "X = deepcopy(flip(X, axis = 1))\n",
    "\n",
    "split_index = int(len(X) * 0.75)\n",
    "\n",
    "X_train = X[:split_index]\n",
    "X_train = X_train.reshape((-1, lookback, 1))\n",
    "X_train = tensor(X_train).float()\n",
    "\n",
    "X_test = X[split_index:]\n",
    "X_test = X_test.reshape((-1, lookback, 1))\n",
    "X_test = tensor(X_test).float()\n",
    "\n",
    "y = metric_data[:, 0]\n",
    "\n",
    "y_train = y[:split_index]\n",
    "y_train = y_train.reshape((-1, 1))\n",
    "y_train = tensor(y_train).float()\n",
    "\n",
    "y_test = y[split_index:]\n",
    "y_test = y_test.reshape((-1, 1))\n",
    "y_test = tensor(y_test).float()\n",
    "\n",
    "X_train.shape, X_test.shape, y_train.shape, y_test.shape"
   ]
  },
  {
   "cell_type": "code",
   "execution_count": null,
   "id": "c58a6c87-627b-48b1-95c0-1acf4f01c0cb",
   "metadata": {},
   "outputs": [],
   "source": [
    "class PrometheusDataset(Dataset):\n",
    "\n",
    "    def __init__(self, X, y):\n",
    "\n",
    "        self.X = X\n",
    "        self.y = y\n",
    "\n",
    "    def __len__(self):\n",
    "\n",
    "        return len(self.X)\n",
    "\n",
    "    def __getitem__(self, index):\n",
    "\n",
    "        return self.X[index], self.y[index]"
   ]
  },
  {
   "cell_type": "code",
   "execution_count": null,
   "id": "c8903ddf-c9c6-4626-ac16-1b44f429f588",
   "metadata": {},
   "outputs": [],
   "source": [
    "train_dataset = PrometheusDataset(X_train, y_train)\n",
    "test_dataset  = PrometheusDataset(X_test, y_test)"
   ]
  },
  {
   "cell_type": "code",
   "execution_count": null,
   "id": "3661c17a-f8e7-471c-a6e9-4dc48b21da5e",
   "metadata": {},
   "outputs": [],
   "source": [
    "batch_size = 12\n",
    "\n",
    "train_loader = DataLoader(train_dataset, batch_size = batch_size, shuffle = False)\n",
    "test_loader  = DataLoader(test_dataset, batch_size = batch_size, shuffle = False)"
   ]
  },
  {
   "cell_type": "code",
   "execution_count": null,
   "id": "9fe474f8-b077-4fa4-9084-b9a23be63cb0",
   "metadata": {},
   "outputs": [],
   "source": [
    "class PrometheusLSTM(Module):\n",
    "\n",
    "    def __init__(self, input_size, hidden_size, stacked_layers):\n",
    "\n",
    "        super().__init__()\n",
    "\n",
    "        self.hidden_size    = hidden_size\n",
    "        self.stacked_layers = stacked_layers\n",
    "\n",
    "        self.LSTM   = LSTM(input_size, hidden_size, stacked_layers, batch_first = True)\n",
    "        self.linear = Linear(hidden_size, 1)\n",
    "\n",
    "    def forward(self, x):\n",
    "\n",
    "        batch_size = x.size(0)\n",
    "\n",
    "        h0 = torch_zeros(self.stacked_layers, batch_size, self.hidden_size).to('cpu')\n",
    "        c0 = torch_zeros(self.stacked_layers, batch_size, self.hidden_size).to('cpu')\n",
    "\n",
    "        output, _ = self.LSTM(x, (h0, c0))\n",
    "        output    = self.linear(output[:, -1, :])\n",
    "\n",
    "        return output"
   ]
  },
  {
   "cell_type": "code",
   "execution_count": null,
   "id": "5920a515-2d71-499a-ab87-36033e053719",
   "metadata": {},
   "outputs": [],
   "source": [
    "model = PrometheusLSTM(1, 4, 1)\n",
    "model.to('cpu')"
   ]
  },
  {
   "cell_type": "code",
   "execution_count": null,
   "id": "b6629127-3fba-4cc7-98a3-e59bb0e6bc2d",
   "metadata": {},
   "outputs": [],
   "source": [
    "def train():\n",
    "\n",
    "    model.train(True)\n",
    "\n",
    "    running_loss = 0.0\n",
    "\n",
    "    for batch_index, batch in enumerate(train_loader):\n",
    "\n",
    "        x_batch = batch[0].to('cpu')\n",
    "        y_batch = batch[1].to('cpu')\n",
    "\n",
    "        output = model(x_batch)\n",
    "\n",
    "        loss          = loss_function(output, y_batch)\n",
    "        running_loss += loss.item()\n",
    "\n",
    "        optimizer.zero_grad()\n",
    "        loss.backward()\n",
    "        optimizer.step()\n",
    "\n",
    "        print('Batch {0}, Loss: {1:.3f}'.format(batch_index + 1, running_loss / 100))"
   ]
  },
  {
   "cell_type": "code",
   "execution_count": null,
   "id": "75c81e93-bdc7-4323-805d-a26c08f479a5",
   "metadata": {},
   "outputs": [],
   "source": [
    "def validate():\n",
    "\n",
    "    model.train(False)\n",
    "\n",
    "    running_loss = 0.0\n",
    "\n",
    "    for batch_index, batch in enumerate(test_loader):\n",
    "\n",
    "        x_batch = batch[0].to('cpu')\n",
    "        y_batch = batch[1].to('cpu')\n",
    "\n",
    "        with no_grad():\n",
    "\n",
    "            output = model(x_batch)\n",
    "\n",
    "            loss          = loss_function(output, y_batch)\n",
    "            running_loss += loss.item()\n",
    "\n",
    "    print('Val Loss: {0:.3f}'.format(running_loss / len(test_loader)))"
   ]
  },
  {
   "cell_type": "code",
   "execution_count": null,
   "id": "d6750754-f152-4d5b-bec6-fd5dac3e1df3",
   "metadata": {},
   "outputs": [],
   "source": [
    "learning_rate = 0.1\n",
    "epochs        = 100\n",
    "loss_function = MSELoss()\n",
    "optimizer     = Adam(model.parameters(), lr = learning_rate)"
   ]
  },
  {
   "cell_type": "code",
   "execution_count": null,
   "id": "7704caff-4ee3-4cde-90ea-793053c2cd42",
   "metadata": {},
   "outputs": [],
   "source": [
    "for epoch in range(epochs):\n",
    "\n",
    "    print('Epoch {0}'.format(epoch + 1))\n",
    "    train()\n",
    "    validate()\n",
    "    print('**********')"
   ]
  },
  {
   "cell_type": "code",
   "execution_count": null,
   "id": "1caa6e58-396d-4b8a-87a2-e183bd08b628",
   "metadata": {},
   "outputs": [],
   "source": [
    "with no_grad():\n",
    "\n",
    "    predicted = model(X_train.to('cpu')).to('cpu').numpy()\n",
    "\n",
    "plot(y_train, label = 'Actual Value')\n",
    "plot(predicted, label = 'Predicted Value')\n",
    "xlabel('Time')\n",
    "ylabel('Value')\n",
    "legend()\n",
    "show()"
   ]
  },
  {
   "cell_type": "code",
   "execution_count": null,
   "id": "15bc7b5b-34ed-4c21-b0e6-5900eb963e34",
   "metadata": {},
   "outputs": [],
   "source": [
    "train_predictions = predicted.flatten()\n",
    "\n",
    "u       = zeros((X_train.shape[0], lookback + 1))\n",
    "u[:, 0] = train_predictions\n",
    "u       = scaler.inverse_transform(u)\n",
    "\n",
    "train_predictions = deepcopy(u[:, 0])\n",
    "\n",
    "u       = zeros((X_train.shape[0], lookback + 1))\n",
    "u[:, 0] = y_train.flatten()\n",
    "u       = scaler.inverse_transform(u)\n",
    "\n",
    "u_y_train = deepcopy(u[:, 0])\n",
    "\n",
    "plot(u_y_train, label = 'Actual Value')\n",
    "plot(train_predictions, label = 'Predicted Value')\n",
    "xlabel('Time')\n",
    "ylabel('Value')\n",
    "legend()\n",
    "show()"
   ]
  },
  {
   "cell_type": "code",
   "execution_count": null,
   "id": "c5ac39da-52f9-4c9c-9223-a4033c53f940",
   "metadata": {},
   "outputs": [],
   "source": [
    "test_predictions = model(X_test.to('cpu')).detach().cpu().numpy().flatten()\n",
    "\n",
    "u       = zeros((X_test.shape[0], lookback + 1))\n",
    "u[:, 0] = test_predictions\n",
    "u       = scaler.inverse_transform(u)\n",
    "\n",
    "test_predictions = deepcopy(u[:, 0])\n",
    "\n",
    "u       = zeros((X_test.shape[0], lookback + 1))\n",
    "u[:, 0] = y_test.flatten()\n",
    "u       = scaler.inverse_transform(u)\n",
    "\n",
    "u_y_test = deepcopy(u[:, 0])\n",
    "\n",
    "plot(u_y_test, label = 'Actual Value')\n",
    "plot(test_predictions, label = 'Predicted Value')\n",
    "xlabel('Time')\n",
    "ylabel('Value')\n",
    "legend()\n",
    "show()"
   ]
  },
  {
   "cell_type": "code",
   "execution_count": null,
   "id": "7ed0df31-9203-44d8-aa10-ee3cb9095a15",
   "metadata": {},
   "outputs": [],
   "source": [
    "save(model.state_dict(), '../app/model.pt')"
   ]
  }
 ],
 "metadata": {
  "kernelspec": {
   "display_name": "Python 3.11",
   "language": "python",
   "name": "python3"
  },
  "language_info": {
   "codemirror_mode": {
    "name": "ipython",
    "version": 3
   },
   "file_extension": ".py",
   "mimetype": "text/x-python",
   "name": "python",
   "nbconvert_exporter": "python",
   "pygments_lexer": "ipython3",
   "version": "3.11.7"
  }
 },
 "nbformat": 4,
 "nbformat_minor": 5
}
