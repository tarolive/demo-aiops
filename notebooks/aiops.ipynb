{
 "cells": [
  {
   "cell_type": "code",
   "execution_count": null,
   "id": "7c180e03-7b3f-4371-ac70-195ccdcca140",
   "metadata": {},
   "outputs": [],
   "source": [
    "!pip install --upgrade numpy prometheus-api-client scikit-learn torch urllib3"
   ]
  },
  {
   "cell_type": "code",
   "execution_count": null,
   "id": "e6829585-1d8c-4ece-a822-8e0464bc56da",
   "metadata": {},
   "outputs": [],
   "source": [
    "from copy                        import deepcopy\n",
    "from datetime                    import timedelta\n",
    "from numpy                       import flip\n",
    "from prometheus_api_client       import MetricSnapshotDataFrame, PrometheusConnect\n",
    "from prometheus_api_client.utils import parse_datetime\n",
    "from urllib3                     import disable_warnings\n",
    "from torch                       import tensor\n",
    "from torch.utils.data            import Dataset\n",
    "from sklearn.preprocessing       import MinMaxScaler\n",
    "\n",
    "disable_warnings()"
   ]
  },
  {
   "cell_type": "code",
   "execution_count": null,
   "id": "de0e1589-e0a6-4ac3-bc57-a85159f6869b",
   "metadata": {},
   "outputs": [],
   "source": [
    "PROMETHEUS_URL   = '<PROMETHEUS_URL>'\n",
    "PROMETHEUS_TOKEN = '<PROMETHEUS_TOKEN>'"
   ]
  },
  {
   "cell_type": "code",
   "execution_count": null,
   "id": "f715550e-7a69-4bdc-bfbe-ebade510257a",
   "metadata": {},
   "outputs": [],
   "source": [
    "prometheus_connect = PrometheusConnect(\n",
    "    url         = PROMETHEUS_URL,\n",
    "    headers     = { 'Authorization' : f'bearer { PROMETHEUS_TOKEN }' },\n",
    "    disable_ssl = True\n",
    ")"
   ]
  },
  {
   "cell_type": "code",
   "execution_count": null,
   "id": "81ede6ac-10c6-4bcd-9de6-be866dfbb176",
   "metadata": {},
   "outputs": [],
   "source": [
    "prometheus_connect.all_metrics()[:10]"
   ]
  },
  {
   "cell_type": "code",
   "execution_count": null,
   "id": "709764e5-c7d5-458f-9388-5cf8052196d6",
   "metadata": {},
   "outputs": [],
   "source": [
    "metric_name = 'pod:container_cpu_usage:sum'\n",
    "start_time  = parse_datetime('1h')\n",
    "end_time    = parse_datetime('now')\n",
    "chunk_size  = timedelta(minutes = 1)\n",
    "\n",
    "label_config = {\n",
    "    'prometheus' : 'openshift-monitoring/k8s',\n",
    "    'namespace'  : '<namespace>'\n",
    "}\n",
    "\n",
    "metric_data = prometheus_connect.get_metric_range_data(\n",
    "    metric_name  = metric_name,\n",
    "    label_config = label_config,\n",
    "    start_time   = start_time,\n",
    "    end_time     = end_time,\n",
    "    chunk_size   = chunk_size\n",
    ")\n",
    "\n",
    "metric_data = MetricSnapshotDataFrame(metric_data)\n",
    "metric_data"
   ]
  },
  {
   "cell_type": "code",
   "execution_count": null,
   "id": "819e5b64-883f-406b-92c0-1204fa5c7df9",
   "metadata": {},
   "outputs": [],
   "source": [
    "len(metric_data)"
   ]
  },
  {
   "cell_type": "code",
   "execution_count": null,
   "id": "43b84bc0-a15f-47f7-808e-3683dff58804",
   "metadata": {},
   "outputs": [],
   "source": [
    "def transform_and_normalize(metric_data, lookback):\n",
    "\n",
    "    metric_data = deepcopy(metric_data)\n",
    "    metric_data = metric_data[['timestamp', 'value']]\n",
    "\n",
    "    for index in range(1, lookback + 1):\n",
    "\n",
    "        metric_data[f't - {index}'] = metric_data['value'].shift(index)\n",
    "\n",
    "    metric_data.set_index('timestamp', inplace = True)\n",
    "    metric_data.dropna(inplace = True)\n",
    "\n",
    "    return metric_data"
   ]
  },
  {
   "cell_type": "code",
   "execution_count": null,
   "id": "424ab66c-f9af-4b13-b6ea-acfb4e9328b2",
   "metadata": {},
   "outputs": [],
   "source": [
    "lookback = 4\n",
    "\n",
    "metric_data = transform_and_normalize(metric_data, lookback)\n",
    "metric_data"
   ]
  },
  {
   "cell_type": "code",
   "execution_count": null,
   "id": "6e8eeceb-0c6d-4ff6-a5b9-79ca24df1a13",
   "metadata": {},
   "outputs": [],
   "source": [
    "metric_data = metric_data.to_numpy()\n",
    "metric_data"
   ]
  },
  {
   "cell_type": "code",
   "execution_count": null,
   "id": "2f5a1180-88d9-4306-97af-05afe370d610",
   "metadata": {},
   "outputs": [],
   "source": [
    "metric_data = MinMaxScaler(feature_range = (-1, 1)).fit_transform(metric_data)\n",
    "metric_data"
   ]
  },
  {
   "cell_type": "code",
   "execution_count": null,
   "id": "cd729245-c920-46b9-8084-2887a2e4450d",
   "metadata": {},
   "outputs": [],
   "source": [
    "X = metric_data[:, 1:]\n",
    "X = deepcopy(flip(X, axis = 1))\n",
    "\n",
    "split_index = int(len(X) * 0.75)\n",
    "\n",
    "X_train = X[:split_index]\n",
    "X_train = X_train.reshape((-1, lookback, 1))\n",
    "X_train = tensor(X_train).float()\n",
    "\n",
    "X_test = X[split_index:]\n",
    "X_test = X_test.reshape((-1, lookback, 1))\n",
    "X_test = tensor(X_test).float()\n",
    "\n",
    "y = metric_data[:, 0]\n",
    "\n",
    "y_train = y[:split_index]\n",
    "y_train = y_train.reshape((-1, 1))\n",
    "y_train = tensor(y_train).float()\n",
    "\n",
    "y_test = y[split_index:]\n",
    "y_test = y_test.reshape((-1, 1))\n",
    "y_test = tensor(y_test).float()\n",
    "\n",
    "X_train.shape, X_test.shape, y_train.shape, y_test.shape"
   ]
  },
  {
   "cell_type": "code",
   "execution_count": null,
   "id": "c58a6c87-627b-48b1-95c0-1acf4f01c0cb",
   "metadata": {},
   "outputs": [],
   "source": [
    "class TimeSeriesDataset(Dataset):\n",
    "\n",
    "    def __init__(self, X, y):\n",
    "\n",
    "        self.X = X\n",
    "        self.y = y\n",
    "\n",
    "    def __len__(self):\n",
    "\n",
    "        return len(self.X)\n",
    "\n",
    "    def __getitem__(self, index):\n",
    "\n",
    "        return self.X[index], self.y[index]"
   ]
  },
  {
   "cell_type": "code",
   "execution_count": null,
   "id": "c8903ddf-c9c6-4626-ac16-1b44f429f588",
   "metadata": {},
   "outputs": [],
   "source": [
    "train_dataset = TimeSeriesDataset(X_train, y_train)\n",
    "test_dataset  = TimeSeriesDataset(X_test, y_test)"
   ]
  }
 ],
 "metadata": {
  "kernelspec": {
   "display_name": "Python 3.11",
   "language": "python",
   "name": "python3"
  },
  "language_info": {
   "codemirror_mode": {
    "name": "ipython",
    "version": 3
   },
   "file_extension": ".py",
   "mimetype": "text/x-python",
   "name": "python",
   "nbconvert_exporter": "python",
   "pygments_lexer": "ipython3",
   "version": "3.11.7"
  }
 },
 "nbformat": 4,
 "nbformat_minor": 5
}
